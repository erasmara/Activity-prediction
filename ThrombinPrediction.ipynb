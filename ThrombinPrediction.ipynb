{
 "cells": [
  {
   "cell_type": "code",
   "execution_count": null,
   "id": "b803fad2-cdc9-44dd-9f2a-2564b1063bbb",
   "metadata": {},
   "outputs": [],
   "source": [
    "import joblib  # or use pickle\n",
    "from rdkit import Chem\n",
    "from rdkit.Chem import rdFingerprintGenerator\n",
    "import numpy as np\n",
    "from sklearn.linear_model import LogisticRegression\n",
    "\n",
    "# Function to generate a fingerprint from SMILES string\n",
    "def generate_fingerprint(smiles):\n",
    "    mol = Chem.MolFromSmiles(smiles)\n",
    "    if mol:\n",
    "        mfpgen = rdFingerprintGenerator.GetMorganGenerator(radius=2, fpSize=512)\n",
    "        fp = mfpgen.GetFingerprint(mol)\n",
    "        return np.array(fp)  # Convert fingerprint to numpy array\n",
    "    else:\n",
    "        return None  # In case of invalid SMILES\n",
    "\n",
    "# Dynamically get the SMILES string from the user\n",
    "new_smiles = input(\"Enter the SMILES string of the compound: \")\n",
    "\n",
    "# Generate fingerprint for the new SMILES\n",
    "new_fingerprint = generate_fingerprint(new_smiles)\n",
    "\n",
    "if new_fingerprint is not None:\n",
    "    # Reshape to match the input shape of the model\n",
    "    new_fingerprint = new_fingerprint.reshape(1, -1)\n",
    "    \n",
    "    # Load the trained model (Make sure the model is saved earlier using joblib or pickle)\n",
    "    model = joblib.load('model_smote.pkl')  # Load the saved model\n",
    "\n",
    "    # Make prediction\n",
    "    prediction = model.predict(new_fingerprint)\n",
    "    print(f\"Prediction for the new SMILES '{new_smiles}': {'Active (1)' if prediction == 1 else 'Inactive (0)'}\")\n",
    "else:\n",
    "    print(\"Invalid SMILES string\")\n"
   ]
  },
  {
   "cell_type": "code",
   "execution_count": null,
   "id": "8f5b09fa-4b1b-4f5c-a5cc-a68944673d63",
   "metadata": {},
   "outputs": [],
   "source": []
  }
 ],
 "metadata": {
  "kernelspec": {
   "display_name": "Python 3 (ipykernel)",
   "language": "python",
   "name": "python3"
  },
  "language_info": {
   "codemirror_mode": {
    "name": "ipython",
    "version": 3
   },
   "file_extension": ".py",
   "mimetype": "text/x-python",
   "name": "python",
   "nbconvert_exporter": "python",
   "pygments_lexer": "ipython3",
   "version": "3.9.7"
  }
 },
 "nbformat": 4,
 "nbformat_minor": 5
}
